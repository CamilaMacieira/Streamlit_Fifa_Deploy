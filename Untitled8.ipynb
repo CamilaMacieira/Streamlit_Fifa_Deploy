import streamlit as st

# Título da página
st.title("Página Inicial para Input de Dados")

# Campos de input
nome = st.text_input("Nome")
idade = st.number_input("Idade", min_value=0, max_value=120, step=1)
email = st.text_input("Email")

# Botão de submissão
if st.button("Enviar"):
    st.write(f"Nome: {nome}")
    st.write(f"Idade: {idade}")
    st.write(f"Email: {email}")
